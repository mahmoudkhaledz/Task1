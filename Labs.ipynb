{
 "cells": [
  {
   "cell_type": "markdown",
   "metadata": {},
   "source": [
    "# LAB 1"
   ]
  },
  {
   "cell_type": "code",
   "execution_count": 3,
   "metadata": {},
   "outputs": [
    {
     "name": "stdout",
     "output_type": "stream",
     "text": [
      "Enter First Number: 5\n",
      "Enter Second Number: 4\n",
      "The Sum of 5.0 + 4.0 = 9.0\n",
      "The Sub = 1.0\n",
      "The Mul = 20.0\n",
      "The Div = 1.25\n"
     ]
    }
   ],
   "source": [
    "N1 = input(\"Enter First Number: \")\n",
    "N2 = input(\"Enter Second Number: \")\n",
    "\n",
    "N1= float(N1)\n",
    "N2= float(N2)\n",
    "\n",
    "print(\"The Sum of\", N1 ,\"+\", N2 ,\"=\", N1+N2)\n",
    "print(\"The Sub of\", N1 ,\"-\", N2 ,\"=\", N1-N2)\n",
    "print(\"The Mul of\", N1 ,\"*\", N2 ,\"=\", N1*N2)\n",
    "print(\"The Div of\", N1 ,\"/\", N2 ,\"=\", N1/N2)"
   ]
  },
  {
   "cell_type": "markdown",
   "metadata": {},
   "source": [
    "# LAB 2"
   ]
  },
  {
   "cell_type": "code",
   "execution_count": 5,
   "metadata": {},
   "outputs": [
    {
     "name": "stdout",
     "output_type": "stream",
     "text": [
      "Enter First Number: 5\n",
      "Enter Second Number: 8\n",
      "Enter Operation: /\n",
      "The Div of 5.0 / 8.0 = 0.625\n"
     ]
    }
   ],
   "source": [
    "N1 = input(\"Enter First Number: \")\n",
    "N2 = input(\"Enter Second Number: \")\n",
    "op = input(\"Enter Operation: \")\n",
    "\n",
    "N1= float(N1)\n",
    "N2= float(N2)\n",
    "\n",
    "if op == '+':\n",
    "    print(\"The Sum of\", N1 ,\"+\", N2 ,\"=\", N1+N2)\n",
    "elif op == '-':\n",
    "    print(\"The Sub of\", N1 ,\"-\", N2 ,\"=\", N1-N2)\n",
    "elif op == '*' or op == 'x' or op == 'X':\n",
    "    print(\"The Mul of\", N1 ,\"*\", N2 ,\"=\", N1*N2)\n",
    "elif op == '/' or op == '\\\\':\n",
    "    print(\"The Div of\", N1 ,\"/\", N2 ,\"=\", N1/N2)"
   ]
  },
  {
   "cell_type": "markdown",
   "metadata": {},
   "source": [
    "# LAB 3.1"
   ]
  },
  {
   "cell_type": "code",
   "execution_count": 20,
   "metadata": {},
   "outputs": [
    {
     "name": "stdout",
     "output_type": "stream",
     "text": [
      "Enter 1st number : 848\n",
      "Enter 2nd number : 48\n",
      "Enter 3rd number : 554854\n",
      "Maximum = 554854\n"
     ]
    }
   ],
   "source": [
    "def Max_2_num(n1,n2):\n",
    "    if n1>n2:\n",
    "        return n1\n",
    "    else:\n",
    "        return n2\n",
    "\n",
    "def Max_3_num(n1,n2,n3):\n",
    "    final1 = Max_2_num(n1,n2)\n",
    "    final2 = Max_2_num(final1,n3)\n",
    "    return final2\n",
    "\n",
    "m1  = int (input(\"Enter 1st number : \"))\n",
    "m2  = int (input(\"Enter 2nd number : \"))\n",
    "m3  = int (input(\"Enter 3rd number : \"))\n",
    "Max = Max_3_num(m1,m2,m3)\n",
    "print(\"Maximum =\",Max)"
   ]
  },
  {
   "cell_type": "markdown",
   "metadata": {},
   "source": [
    "# LAB 3.2"
   ]
  },
  {
   "cell_type": "code",
   "execution_count": 45,
   "metadata": {},
   "outputs": [
    {
     "name": "stdout",
     "output_type": "stream",
     "text": [
      "The uniqe list = [1, 5, 2, 4, 7, 9, 8, 6, 3, 0]\n"
     ]
    }
   ],
   "source": [
    "def UniqeList(non_unique):\n",
    "    result= []\n",
    "    for n in non_unique:\n",
    "        if n not in result:\n",
    "            result.append(n)\n",
    "    return(result)\n",
    "            \n",
    "numbers=[1,5,2,1,4,7,9,8,4,5,6,3,2,1,7,0,2,4,7,8,2,0,1,3,6,9,7]\n",
    "\n",
    "print(\"The uniqe list =\", UniqeList(numbers))"
   ]
  },
  {
   "cell_type": "markdown",
   "metadata": {},
   "source": [
    "OR"
   ]
  },
  {
   "cell_type": "code",
   "execution_count": 48,
   "metadata": {},
   "outputs": [
    {
     "name": "stdout",
     "output_type": "stream",
     "text": [
      "Enter number of element of your list : 5\n",
      "Enter elements of your list : 1\n",
      "Enter elements of your list : 2\n",
      "Enter elements of your list : 3\n",
      "Enter elements of your list : 5\n",
      "Enter elements of your list : 5\n",
      "\n",
      "\n",
      "The uniqe list = [1, 2, 3, 5]\n"
     ]
    }
   ],
   "source": [
    "def UniqeList(non_unique):\n",
    "    result= []\n",
    "    for n in non_unique:\n",
    "        if n not in result:\n",
    "            result.append(n)\n",
    "    return(result)\n",
    "\n",
    "element = int (input(\"Enter number of element of your list : \"))\n",
    "numbers=[]\n",
    "\n",
    "for x in range(0,element):\n",
    "    y = int (input(\"Enter elements of your list : \"))\n",
    "    numbers.append(y)\n",
    "\n",
    "print(\"\\n\")\n",
    "print(\"The uniqe list =\", UniqeList(numbers))"
   ]
  },
  {
   "cell_type": "markdown",
   "metadata": {},
   "source": [
    "# Check Prime or Not"
   ]
  },
  {
   "cell_type": "code",
   "execution_count": 5,
   "metadata": {},
   "outputs": [
    {
     "name": "stdout",
     "output_type": "stream",
     "text": [
      "Enter your number : 44\n",
      "44 is not a prime numbers\n",
      "Try again.\n",
      "Enter your number : 78\n",
      "78 is not a prime numbers\n",
      "Try again.\n",
      "Enter your number : 52\n",
      "52 is not a prime numbers\n",
      "Try again.\n",
      "Enter your number : 7\n",
      "7 is a prime numbers\n"
     ]
    }
   ],
   "source": [
    "import sympy\n",
    "\n",
    "num = int(input(\"Enter your number : \"))\n",
    "\n",
    "while True:\n",
    "    if(sympy.isprime(num)):\n",
    "            print(num ,\"is a prime numbers\")\n",
    "            break\n",
    "    else:\n",
    "        print(num , \"is not a prime numbers\")\n",
    "        print(\"Try again.\")\n",
    "        num = int(input(\"Enter your number : \"))"
   ]
  },
  {
   "cell_type": "markdown",
   "metadata": {},
   "source": [
    "# Reverse a String"
   ]
  },
  {
   "cell_type": "code",
   "execution_count": 12,
   "metadata": {},
   "outputs": [
    {
     "name": "stdout",
     "output_type": "stream",
     "text": [
      "Enter anything : mahmoud khaled \n"
     ]
    },
    {
     "data": {
      "text/plain": [
       "' delahk duomham'"
      ]
     },
     "execution_count": 12,
     "metadata": {},
     "output_type": "execute_result"
    }
   ],
   "source": [
    "s=input(\"Enter anything : \")\n",
    "s[::-1]"
   ]
  }
 ],
 "metadata": {
  "kernelspec": {
   "display_name": "Python 3",
   "language": "python",
   "name": "python3"
  },
  "language_info": {
   "codemirror_mode": {
    "name": "ipython",
    "version": 3
   },
   "file_extension": ".py",
   "mimetype": "text/x-python",
   "name": "python",
   "nbconvert_exporter": "python",
   "pygments_lexer": "ipython3",
   "version": "3.7.4"
  }
 },
 "nbformat": 4,
 "nbformat_minor": 2
}
